{
 "cells": [
  {
   "cell_type": "markdown",
   "metadata": {},
   "source": [
    "# House Price prediction with AutoML (Accelerated Data Science Python SDK)"
   ]
  },
  {
   "cell_type": "code",
   "execution_count": 1,
   "metadata": {},
   "outputs": [],
   "source": [
    "# Load a number of libraries, including the Accelerated Data Science DatasetFactory and initialize it.\n",
    "import pandas as pd\n",
    "import logging\n",
    "import numpy as np\n",
    "import ads\n",
    "import oci\n",
    "from oci.data_science import DataScienceClient\n",
    "from ads.dataset.factory import DatasetFactory\n",
    "\n",
    "# OCI ADS API\n",
    "ads.set_auth(auth='resource_principal')\n",
    "resource_principal = oci.auth.signers.get_resource_principals_signer()\n",
    "dsc = DataScienceClient(config={},signer=resource_principal)"
   ]
  },
  {
   "cell_type": "code",
   "execution_count": 2,
   "metadata": {},
   "outputs": [
    {
     "data": {
      "application/vnd.jupyter.widget-view+json": {
       "model_id": "",
       "version_major": 2,
       "version_minor": 0
      },
      "text/plain": [
       "HBox(children=(HTML(value='loop1'), FloatProgress(value=0.0, max=4.0), HTML(value='')))"
      ]
     },
     "metadata": {},
     "output_type": "display_data"
    }
   ],
   "source": [
    "# Load the House Price data set using the ADS library. \n",
    "# This library is capable of loading data from a variety of sources, including OCI Object Storage, \n",
    "# Autonomous Database (ADW and ATP), other Oracle databases, Hadoop, S3, and many more. \n",
    "# In this case the file is simply loaded from the block storage of the OCI Data Science service \n",
    "# itself.\n",
    "\n",
    "logging.basicConfig(format='%(levelname)s:%(message)s', level=logging.ERROR)\n",
    "ds = DatasetFactory.open(\"housesales.csv\", target=\"SalePrice\")"
   ]
  },
  {
   "cell_type": "code",
   "execution_count": 3,
   "metadata": {},
   "outputs": [
    {
     "data": {
      "application/vnd.jupyter.widget-view+json": {
       "model_id": "65f5d72193df40258ab17c0dde795870",
       "version_major": 2,
       "version_minor": 0
      },
      "text/plain": [
       "HTML(value='<li>detected wide dataset (81 columns)</li>')"
      ]
     },
     "metadata": {},
     "output_type": "display_data"
    },
    {
     "data": {
      "application/vnd.jupyter.widget-view+json": {
       "model_id": "a7be1c3fa4c245c7802355ed7a6809b0",
       "version_major": 2,
       "version_minor": 0
      },
      "text/plain": [
       "HTML(value='<li>feature reduction using mutual information (max 16 columns)</li>')"
      ]
     },
     "metadata": {},
     "output_type": "display_data"
    }
   ],
   "source": [
    "# Automatic Data Preparation with ADS:\n",
    "# Last time we investigated every feature to decide whether it needed to be included in the model \n",
    "# training. We manually had to check for things like number of unique values and missing values.\n",
    "# Instead of doing this manually, let's ask ADS for suggestions on what changes to make to the\n",
    "# data set.\n",
    "# The following will show a summary of the recommendations. For example, ADS can recommend how \n",
    "# to handle missing values. And it will recommend what to do with columsn that appear identifiers.\n",
    "# Note that this can take up to a minute (depending on the shape you've chosen).\n",
    "\n",
    "suggestion_df = ds.suggest_recommendations()"
   ]
  },
  {
   "cell_type": "code",
   "execution_count": 4,
   "metadata": {},
   "outputs": [
    {
     "data": {
      "application/vnd.jupyter.widget-view+json": {
       "model_id": "",
       "version_major": 2,
       "version_minor": 0
      },
      "text/plain": [
       "HBox(children=(HTML(value='loop1'), FloatProgress(value=0.0, max=5.0), HTML(value='')))"
      ]
     },
     "metadata": {},
     "output_type": "display_data"
    },
    {
     "data": {
      "image/svg+xml": [
       "<svg height=\"634pt\" viewBox=\"0.00 0.00 421.00 634.00\" width=\"421pt\" xmlns=\"http://www.w3.org/2000/svg\" xmlns:xlink=\"http://www.w3.org/1999/xlink\">\n",
       "<g class=\"graph\" id=\"graph0\" transform=\"scale(1 1) rotate(0) translate(4 630)\">\n",
       "<title>%3</title>\n",
       "<polygon fill=\"white\" points=\"-4,5 -4,-630 418,-630 418,5 -4,5\" stroke=\"white\"/>\n",
       "<!-- partitions -->\n",
       "<g class=\"node\" id=\"node1\"><title>partitions</title>\n",
       "<polygon fill=\"dimgray\" points=\"172,-625.5 12,-625.5 12,-629.5 0,-629.5 0,-550.5 172,-550.5 172,-625.5\" stroke=\"black\"/>\n",
       "<polyline fill=\"none\" points=\"0,-625.5 12,-625.5 \" stroke=\"black\"/>\n",
       "<text fill=\"white\" font-family=\"Courier,monospace\" font-size=\"12.00\" text-anchor=\"start\" x=\"18\" y=\"-597.9\">- partition(s): 15</text>\n",
       "<text fill=\"white\" font-family=\"Courier,monospace\" font-size=\"12.00\" text-anchor=\"start\" x=\"18\" y=\"-584.9\">- rows: 1460</text>\n",
       "<text fill=\"white\" font-family=\"Courier,monospace\" font-size=\"12.00\" text-anchor=\"start\" x=\"18\" y=\"-571.9\">- columns: 75</text>\n",
       "</g>\n",
       "<!-- prepare -->\n",
       "<g class=\"node\" id=\"node2\"><title>prepare</title>\n",
       "<polygon fill=\"azure\" points=\"249.25,-606 190.75,-606 190.75,-602 186.75,-602 186.75,-598 190.75,-598 190.75,-578 186.75,-578 186.75,-574 190.75,-574 190.75,-570 249.25,-570 249.25,-606\" stroke=\"black\"/>\n",
       "<polyline fill=\"none\" points=\"190.75,-602 194.75,-602 194.75,-598 190.75,-598 \" stroke=\"black\"/>\n",
       "<polyline fill=\"none\" points=\"190.75,-578 194.75,-578 194.75,-574 190.75,-574 \" stroke=\"black\"/>\n",
       "<text font-family=\"Courier,monospace\" font-size=\"10.00\" text-anchor=\"middle\" x=\"220\" y=\"-585.5\">prepare</text>\n",
       "</g>\n",
       "<!-- type_discovery -->\n",
       "<g class=\"node\" id=\"node3\"><title>type_discovery</title>\n",
       "<polygon fill=\"azure\" points=\"270.25,-502 169.75,-502 169.75,-498 165.75,-498 165.75,-494 169.75,-494 169.75,-474 165.75,-474 165.75,-470 169.75,-470 169.75,-466 270.25,-466 270.25,-502\" stroke=\"black\"/>\n",
       "<polyline fill=\"none\" points=\"169.75,-498 173.75,-498 173.75,-494 169.75,-494 \" stroke=\"black\"/>\n",
       "<polyline fill=\"none\" points=\"169.75,-474 173.75,-474 173.75,-470 169.75,-470 \" stroke=\"black\"/>\n",
       "<text font-family=\"Courier,monospace\" font-size=\"10.00\" text-anchor=\"middle\" x=\"220\" y=\"-481.5\">type_discovery</text>\n",
       "</g>\n",
       "<!-- prepare&#45;&gt;type_discovery -->\n",
       "<g class=\"edge\" id=\"edge1\"><title>prepare-&gt;type_discovery</title>\n",
       "<path d=\"M220,-569.697C220,-553.923 220,-530.364 220,-512.094\" fill=\"none\" stroke=\"black\"/>\n",
       "<polygon fill=\"black\" points=\"223.5,-512.047 220,-502.047 216.5,-512.047 223.5,-512.047\" stroke=\"black\"/>\n",
       "<text font-family=\"Courier,monospace\" font-size=\"10.00\" text-anchor=\"start\" x=\"220.5\" y=\"-524.5\"> </text>\n",
       "<text font-family=\"Courier,monospace\" font-size=\"10.00\" font-weight=\"bold\" text-anchor=\"start\" x=\"227.5\" y=\"-524.5\">fix_column_names</text>\n",
       "<text font-family=\"Courier,monospace\" font-size=\"10.00\" text-anchor=\"start\" x=\"318.5\" y=\"-524.5\"> </text>\n",
       "</g>\n",
       "<!-- recommendations -->\n",
       "<g class=\"node\" id=\"node4\"><title>recommendations</title>\n",
       "<polygon fill=\"#eec900\" points=\"413,-417.5 27,-417.5 27,-413.5 23,-413.5 23,-409.5 27,-409.5 27,-188.5 23,-188.5 23,-184.5 27,-184.5 27,-180.5 413,-180.5 413,-417.5\" stroke=\"black\"/>\n",
       "<polyline fill=\"none\" points=\"27,-413.5 31,-413.5 31,-409.5 27,-409.5 \" stroke=\"black\"/>\n",
       "<polyline fill=\"none\" points=\"27,-188.5 31,-188.5 31,-184.5 27,-184.5 \" stroke=\"black\"/>\n",
       "<text font-family=\"Courier,monospace\" font-size=\"10.00\" text-anchor=\"start\" x=\"186.5\" y=\"-392.5\"> Drop: &quot;Id&quot;</text>\n",
       "<text font-family=\"Courier,monospace\" font-size=\"10.00\" text-anchor=\"start\" x=\"51.5\" y=\"-382.5\">Fill missing values with frequent in LotFrontage: &quot;60.0&quot;</text>\n",
       "<text font-family=\"Courier,monospace\" font-size=\"10.00\" text-anchor=\"start\" x=\"180.5\" y=\"-372.5\">Drop: &quot;Alley&quot;</text>\n",
       "<text font-family=\"Courier,monospace\" font-size=\"10.00\" text-anchor=\"start\" x=\"54.5\" y=\"-362.5\">Fill missing values with frequent in MasVnrType: &quot;None&quot;</text>\n",
       "<text font-family=\"Courier,monospace\" font-size=\"10.00\" text-anchor=\"start\" x=\"57.5\" y=\"-352.5\">Fill missing values with frequent in MasVnrArea: &quot;0.0&quot;</text>\n",
       "<text font-family=\"Courier,monospace\" font-size=\"10.00\" text-anchor=\"start\" x=\"66.5\" y=\"-342.5\">Fill missing values with frequent in BsmtQual: &quot;TA&quot;</text>\n",
       "<text font-family=\"Courier,monospace\" font-size=\"10.00\" text-anchor=\"start\" x=\"66.5\" y=\"-332.5\">Fill missing values with frequent in BsmtCond: &quot;TA&quot;</text>\n",
       "<text font-family=\"Courier,monospace\" font-size=\"10.00\" text-anchor=\"start\" x=\"54.5\" y=\"-322.5\">Fill missing values with frequent in BsmtExposure: &quot;No&quot;</text>\n",
       "<text font-family=\"Courier,monospace\" font-size=\"10.00\" text-anchor=\"start\" x=\"51.5\" y=\"-312.5\">Fill missing values with frequent in BsmtFinType1: &quot;Unf&quot;</text>\n",
       "<text font-family=\"Courier,monospace\" font-size=\"10.00\" text-anchor=\"start\" x=\"51.5\" y=\"-302.5\">Fill missing values with frequent in BsmtFinType2: &quot;Unf&quot;</text>\n",
       "<text font-family=\"Courier,monospace\" font-size=\"10.00\" text-anchor=\"start\" x=\"51.5\" y=\"-292.5\">Fill missing values with frequent in Electrical: &quot;SBrkr&quot;</text>\n",
       "<text font-family=\"Courier,monospace\" font-size=\"10.00\" text-anchor=\"start\" x=\"162.5\" y=\"-282.5\">Drop: &quot;FireplaceQu&quot;</text>\n",
       "<text font-family=\"Courier,monospace\" font-size=\"10.00\" text-anchor=\"start\" x=\"48.5\" y=\"-272.5\">Fill missing values with frequent in GarageType: &quot;Attchd&quot;</text>\n",
       "<text font-family=\"Courier,monospace\" font-size=\"10.00\" text-anchor=\"start\" x=\"45.5\" y=\"-262.5\">Fill missing values with frequent in GarageYrBlt: &quot;2005.0&quot;</text>\n",
       "<text font-family=\"Courier,monospace\" font-size=\"10.00\" text-anchor=\"start\" x=\"51.5\" y=\"-252.5\">Fill missing values with frequent in GarageFinish: &quot;Unf&quot;</text>\n",
       "<text font-family=\"Courier,monospace\" font-size=\"10.00\" text-anchor=\"start\" x=\"60.5\" y=\"-242.5\">Fill missing values with frequent in GarageQual: &quot;TA&quot;</text>\n",
       "<text font-family=\"Courier,monospace\" font-size=\"10.00\" text-anchor=\"start\" x=\"60.5\" y=\"-232.5\">Fill missing values with frequent in GarageCond: &quot;TA&quot;</text>\n",
       "<text font-family=\"Courier,monospace\" font-size=\"10.00\" text-anchor=\"start\" x=\"177.5\" y=\"-222.5\">Drop: &quot;PoolQC&quot;</text>\n",
       "<text font-family=\"Courier,monospace\" font-size=\"10.00\" text-anchor=\"start\" x=\"180.5\" y=\"-212.5\">Drop: &quot;Fence&quot;</text>\n",
       "<text font-family=\"Courier,monospace\" font-size=\"10.00\" text-anchor=\"start\" x=\"159.5\" y=\"-202.5\">Drop: &quot;MiscFeature&quot; </text>\n",
       "</g>\n",
       "<!-- type_discovery&#45;&gt;recommendations -->\n",
       "<g class=\"edge\" id=\"edge2\"><title>type_discovery-&gt;recommendations</title>\n",
       "<path d=\"M220,-465.784C220,-456.024 220,-442.838 220,-428.14\" fill=\"none\" stroke=\"black\"/>\n",
       "<polygon fill=\"black\" points=\"223.5,-427.747 220,-417.747 216.5,-427.747 223.5,-427.747\" stroke=\"black\"/>\n",
       "<text font-family=\"Courier,monospace\" font-size=\"10.00\" text-anchor=\"start\" x=\"220.5\" y=\"-440.5\"> </text>\n",
       "<text font-family=\"Courier,monospace\" font-size=\"10.00\" font-weight=\"bold\" text-anchor=\"start\" x=\"227.5\" y=\"-440.5\">convert_columns</text>\n",
       "<text font-family=\"Courier,monospace\" font-size=\"10.00\" text-anchor=\"start\" x=\"318.5\" y=\"-440.5\"> </text>\n",
       "</g>\n",
       "<!-- feature_engineering -->\n",
       "<g class=\"node\" id=\"node5\"><title>feature_engineering</title>\n",
       "<polygon fill=\"#eec900\" points=\"359,-131.5 81,-131.5 81,-127.5 77,-127.5 77,-123.5 81,-123.5 81,-92.5 77,-92.5 77,-88.5 81,-88.5 81,-84.5 359,-84.5 359,-131.5\" stroke=\"black\"/>\n",
       "<polyline fill=\"none\" points=\"81,-127.5 85,-127.5 85,-123.5 81,-123.5 \" stroke=\"black\"/>\n",
       "<polyline fill=\"none\" points=\"81,-92.5 85,-92.5 85,-88.5 81,-88.5 \" stroke=\"black\"/>\n",
       "<text font-family=\"Courier,monospace\" font-size=\"10.00\" text-anchor=\"start\" x=\"99.5\" y=\"-106.5\"> No feature engineering transformations </text>\n",
       "</g>\n",
       "<!-- recommendations&#45;&gt;feature_engineering -->\n",
       "<g class=\"edge\" id=\"edge3\"><title>recommendations-&gt;feature_engineering</title>\n",
       "<path d=\"M220,-180.453C220,-166.345 220,-152.966 220,-141.683\" fill=\"none\" stroke=\"black\"/>\n",
       "<polygon fill=\"black\" points=\"223.5,-141.552 220,-131.552 216.5,-141.552 223.5,-141.552\" stroke=\"black\"/>\n",
       "<text font-family=\"Courier,monospace\" font-size=\"10.00\" text-anchor=\"start\" x=\"220.5\" y=\"-154.5\"> </text>\n",
       "<text font-family=\"Courier,monospace\" font-size=\"10.00\" font-weight=\"bold\" text-anchor=\"start\" x=\"227.5\" y=\"-154.5\">RecommendationTransformer</text>\n",
       "<text font-family=\"Courier,monospace\" font-size=\"10.00\" text-anchor=\"start\" x=\"378.5\" y=\"-154.5\"> </text>\n",
       "</g>\n",
       "<!-- terminus -->\n",
       "<g class=\"node\" id=\"node6\"><title>terminus</title>\n",
       "<polygon fill=\"white\" points=\"223,-18 223,-24 229,-24 229,-30 211,-30 211,-24 217,-24 217,-18 223,-18\" stroke=\"black\"/>\n",
       "<polyline fill=\"none\" points=\"193,-18 247,-18 \" stroke=\"black\"/>\n",
       "</g>\n",
       "<!-- feature_engineering&#45;&gt;terminus -->\n",
       "<g class=\"edge\" id=\"edge4\"><title>feature_engineering-&gt;terminus</title>\n",
       "<path d=\"M220,-84.3378C220,-72.6791 220,-58.3831 220,-46.1394\" fill=\"none\" stroke=\"black\"/>\n",
       "<polygon fill=\"black\" points=\"223.5,-46.0259 220,-36.026 216.5,-46.026 223.5,-46.0259\" stroke=\"black\"/>\n",
       "<text font-family=\"Courier,monospace\" font-size=\"10.00\" text-anchor=\"start\" x=\"220.5\" y=\"-58.5\"> </text>\n",
       "<text font-family=\"Courier,monospace\" font-size=\"10.00\" font-weight=\"bold\" text-anchor=\"start\" x=\"227.5\" y=\"-58.5\">FeatureEngineeringTransformer</text>\n",
       "<text font-family=\"Courier,monospace\" font-size=\"10.00\" text-anchor=\"start\" x=\"402.5\" y=\"-58.5\"> </text>\n",
       "</g>\n",
       "</g>\n",
       "</svg>"
      ],
      "text/plain": [
       "<IPython.core.display.SVG object>"
      ]
     },
     "metadata": {},
     "output_type": "display_data"
    }
   ],
   "source": [
    "# Imagine that we decide to simply take the recommendations made by ADS. Before we run the \n",
    "# transformations, let's have a look at the original situation.\n",
    "# For example, ADS suggests that we drop the columns Id, Alley, FireplaceQu, et ceters.\n",
    "# ADS also suggests that we set default values for missing values in LotFrontage, MasVnrArea, \n",
    "# et cetera.\n",
    "# Now, let's apply the recommended transformations.\n",
    "# We will also visualize the transformations.\n",
    "\n",
    "ds_transformed = ds.auto_transform()\n",
    "ds_transformed.visualize_transforms()"
   ]
  },
  {
   "cell_type": "code",
   "execution_count": 5,
   "metadata": {},
   "outputs": [
    {
     "data": {
      "text/html": [
       "<div>\n",
       "<style scoped>\n",
       "    .dataframe tbody tr th:only-of-type {\n",
       "        vertical-align: middle;\n",
       "    }\n",
       "\n",
       "    .dataframe tbody tr th {\n",
       "        vertical-align: top;\n",
       "    }\n",
       "\n",
       "    .dataframe thead th {\n",
       "        text-align: right;\n",
       "    }\n",
       "</style>\n",
       "<table border=\"1\" class=\"dataframe\">\n",
       "  <thead>\n",
       "    <tr style=\"text-align: right;\">\n",
       "      <th></th>\n",
       "      <th>Feature</th>\n",
       "      <th>Datatype</th>\n",
       "    </tr>\n",
       "  </thead>\n",
       "  <tbody>\n",
       "    <tr>\n",
       "      <th>0</th>\n",
       "      <td>SalePrice</td>\n",
       "      <td>ordinal/int32</td>\n",
       "    </tr>\n",
       "    <tr>\n",
       "      <th>1</th>\n",
       "      <td>MSSubClass</td>\n",
       "      <td>ordinal/int16</td>\n",
       "    </tr>\n",
       "    <tr>\n",
       "      <th>2</th>\n",
       "      <td>MSZoning</td>\n",
       "      <td>categorical/category</td>\n",
       "    </tr>\n",
       "    <tr>\n",
       "      <th>3</th>\n",
       "      <td>LotFrontage</td>\n",
       "      <td>ordinal/float64</td>\n",
       "    </tr>\n",
       "    <tr>\n",
       "      <th>4</th>\n",
       "      <td>LotArea</td>\n",
       "      <td>ordinal/int32</td>\n",
       "    </tr>\n",
       "    <tr>\n",
       "      <th>...</th>\n",
       "      <td>...</td>\n",
       "      <td>...</td>\n",
       "    </tr>\n",
       "    <tr>\n",
       "      <th>70</th>\n",
       "      <td>MiscVal</td>\n",
       "      <td>ordinal/int16</td>\n",
       "    </tr>\n",
       "    <tr>\n",
       "      <th>71</th>\n",
       "      <td>MoSold</td>\n",
       "      <td>categorical/category</td>\n",
       "    </tr>\n",
       "    <tr>\n",
       "      <th>72</th>\n",
       "      <td>YrSold</td>\n",
       "      <td>ordinal/int16</td>\n",
       "    </tr>\n",
       "    <tr>\n",
       "      <th>73</th>\n",
       "      <td>SaleType</td>\n",
       "      <td>categorical/category</td>\n",
       "    </tr>\n",
       "    <tr>\n",
       "      <th>74</th>\n",
       "      <td>SaleCondition</td>\n",
       "      <td>categorical/category</td>\n",
       "    </tr>\n",
       "  </tbody>\n",
       "</table>\n",
       "<p>75 rows × 2 columns</p>\n",
       "</div>"
      ],
      "text/plain": [
       "          Feature              Datatype\n",
       "0       SalePrice         ordinal/int32\n",
       "1      MSSubClass         ordinal/int16\n",
       "2        MSZoning  categorical/category\n",
       "3     LotFrontage       ordinal/float64\n",
       "4         LotArea         ordinal/int32\n",
       "..            ...                   ...\n",
       "70        MiscVal         ordinal/int16\n",
       "71         MoSold  categorical/category\n",
       "72         YrSold         ordinal/int16\n",
       "73       SaleType  categorical/category\n",
       "74  SaleCondition  categorical/category\n",
       "\n",
       "[75 rows x 2 columns]"
      ]
     },
     "execution_count": 5,
     "metadata": {},
     "output_type": "execute_result"
    }
   ],
   "source": [
    "# Let's visualize the end result.\n",
    "# We see that there are now only 74 features left.\n",
    "\n",
    "ds_transformed.summary()"
   ]
  },
  {
   "cell_type": "code",
   "execution_count": 6,
   "metadata": {},
   "outputs": [
    {
     "data": {
      "application/vnd.jupyter.widget-view+json": {
       "model_id": "",
       "version_major": 2,
       "version_minor": 0
      },
      "text/plain": [
       "HBox(children=(HTML(value='loop1'), FloatProgress(value=0.0, max=4.0), HTML(value='')))"
      ]
     },
     "metadata": {},
     "output_type": "display_data"
    }
   ],
   "source": [
    "# AutoML:\n",
    "# Now let's move on to building the model.\n",
    "# We will run an experiment in which we create 3 models:\n",
    "# 1: Linear Regression manually configured\n",
    "# 2: Ridge Regression manually configured\n",
    "# 3: AutoML\n",
    "# Once we've trained the models, we will compare their performance.\n",
    "#\n",
    "\n",
    "# Preparation:\n",
    "# 1. Resolve the skew in the target SalePrice by doing a log operation.\n",
    "ds_transformed = ds_transformed.assign_column('SalePrice', lambda x: np.log(x))\n",
    "\n",
    "# 2. Convert categorical attributes to numeric attributes\n",
    "from ads.dataset.label_encoder import DataFrameLabelEncoder\n",
    "ds_encoded = DataFrameLabelEncoder().fit_transform(ds_transformed.to_pandas_dataframe())\n",
    "\n",
    "# 3. Separate the dataset in target and input features and split into test and train.\n",
    "y = ds_encoded['SalePrice']\n",
    "X = ds_encoded.drop(['SalePrice'], axis=1)\n",
    "ds_done = DatasetFactory.open(ds_encoded, target=\"SalePrice\")\n",
    "train, test = ds_done.train_test_split(test_size=0.2)"
   ]
  },
  {
   "cell_type": "code",
   "execution_count": 7,
   "metadata": {},
   "outputs": [],
   "source": [
    "# First train two models manually (without AutoML): Linear Regression and Ridge Regression.\n",
    "# We'll use these later to compare their performance against the model created by AutoML.\n",
    "\n",
    "from sklearn.linear_model import Ridge, Lasso, LinearRegression\n",
    "from ads.common.model import ADSModel\n",
    "X = train.X.copy()\n",
    "y = train.y.copy()\n",
    "lr = LinearRegression()\n",
    "rr = Ridge(alpha=13.5)\n",
    "lr_model_fit = lr.fit(X, y)\n",
    "rr_model_fit = rr.fit(X, y)\n",
    "lr_model = ADSModel.from_estimator(lr_model_fit, name=\"LinearRegression\")\n",
    "rr_model = ADSModel.from_estimator(rr_model_fit, name=\"Ridge\")\n"
   ]
  },
  {
   "cell_type": "code",
   "execution_count": 8,
   "metadata": {},
   "outputs": [],
   "source": [
    "# Now, let's see how well AutoML can perform the same task.\n",
    "# AutoML will evaluate several algorithms in combination with different values for their \n",
    "# hyperparameters.\n",
    "# Note the time parameter of 160 seconds, this means we allow AutoML this amount of time to find the best solution.\n",
    "\n",
    "from ads.automl.provider import OracleAutoMLProvider\n",
    "from ads.automl.driver import AutoML\n",
    "ml_engine = OracleAutoMLProvider(n_jobs = -1) # n_jobs = -1 means that we are not going to limit the resources and let the AutoML to do this for us and take as much as possible\n",
    "automl = AutoML(train, provider=ml_engine)\n",
    "model, baseline = automl.train(time_budget=160, random_state=42)\n"
   ]
  },
  {
   "cell_type": "code",
   "execution_count": 9,
   "metadata": {},
   "outputs": [
    {
     "data": {
      "application/vnd.jupyter.widget-view+json": {
       "model_id": "c85637781a3943fe95d0aadda1e33b1f",
       "version_major": 2,
       "version_minor": 0
      },
      "text/plain": [
       "HTML(value='<style  type=\"text/css\" >\\n    #T_72d2d906_6de8_11ec_bd59_0242ac130002  {\\n          text-align: r…"
      ]
     },
     "metadata": {},
     "output_type": "display_data"
    },
    {
     "data": {
      "application/vnd.jupyter.widget-view+json": {
       "model_id": "05567f425a3f4ec98a39b6ff14ee2f9b",
       "version_major": 2,
       "version_minor": 0
      },
      "text/plain": [
       "HTML(value='<style  type=\"text/css\" >\\n    #T_72d88928_6de8_11ec_bd59_0242ac130002  {\\n          text-align: r…"
      ]
     },
     "metadata": {},
     "output_type": "display_data"
    },
    {
     "data": {
      "text/plain": []
     },
     "execution_count": 9,
     "metadata": {},
     "output_type": "execute_result"
    }
   ],
   "source": [
    "# Have a look at the top candidate that was selected by AutoML. What algorithm is it? \n",
    "# What are the hyperparameters it's using?\n",
    "#\n",
    "# Now, let's compare the performance of the manual and AutoML models\n",
    "\n",
    "from ads.evaluations.evaluator import ADSEvaluator\n",
    "evaluator = ADSEvaluator(test, models=[model, baseline, lr_model, rr_model], training_data=train)\n",
    "evaluator.metrics\n"
   ]
  },
  {
   "cell_type": "code",
   "execution_count": 10,
   "metadata": {},
   "outputs": [],
   "source": [
    "# Conclusion:\n",
    "# The models have been compared using various metrics.\n",
    "# The best performing metrics are displayed in green.\n",
    "#\n",
    "# For example, look at the Mean Square Error, this is a measure of how close the predicted values\n",
    "# match the actual values. The value of the AutoML model is significantly lower than that of the \n",
    "# manually configured models, meaning that the AutoML model is performing better.\n",
    "# The same is the case for the other metrics.\n",
    "#"
   ]
  }
 ],
 "metadata": {
  "kernelspec": {
   "display_name": "Python [conda env:generalmachinelearningforcpusv1_0]",
   "language": "python",
   "name": "conda-env-generalmachinelearningforcpusv1_0-py"
  },
  "language_info": {
   "codemirror_mode": {
    "name": "ipython",
    "version": 3
   },
   "file_extension": ".py",
   "mimetype": "text/x-python",
   "name": "python",
   "nbconvert_exporter": "python",
   "pygments_lexer": "ipython3",
   "version": "3.6.11"
  }
 },
 "nbformat": 4,
 "nbformat_minor": 4
}
